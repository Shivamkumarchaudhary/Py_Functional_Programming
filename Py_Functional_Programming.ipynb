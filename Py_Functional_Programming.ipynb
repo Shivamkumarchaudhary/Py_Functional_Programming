{
 "cells": [
  {
   "cell_type": "markdown",
   "id": "cc0f57ff",
   "metadata": {},
   "source": [
    "###  Functional Programming"
   ]
  },
  {
   "cell_type": "code",
   "execution_count": 2,
   "id": "ec14fefa",
   "metadata": {},
   "outputs": [
    {
     "name": "stdout",
     "output_type": "stream",
     "text": [
      "30\n"
     ]
    }
   ],
   "source": [
    "def add_ten(x):\n",
    "    return x+10\n",
    "def twice(func,arg):\n",
    "    return func(func(arg))\n",
    "\n",
    "print(twice(add_ten,10))"
   ]
  },
  {
   "cell_type": "code",
   "execution_count": 4,
   "id": "cb52dcb6",
   "metadata": {},
   "outputs": [
    {
     "name": "stdout",
     "output_type": "stream",
     "text": [
      "even\n"
     ]
    }
   ],
   "source": [
    "def num(x):\n",
    "    if(x%2==0):\n",
    "        return \"even\"\n",
    "def mul(func,arg):\n",
    "    return func(2*arg)\n",
    "\n",
    "print(mul(num,10))"
   ]
  },
  {
   "cell_type": "code",
   "execution_count": 6,
   "id": "b1b016b1",
   "metadata": {},
   "outputs": [
    {
     "name": "stdout",
     "output_type": "stream",
     "text": [
      "odd\n"
     ]
    }
   ],
   "source": [
    "def num(x):\n",
    "    if(x%2==0):\n",
    "        return \"even\"\n",
    "    \n",
    "    else:\n",
    "        \n",
    "        return \"odd\"\n",
    "        \n",
    "def mul(func,arg):\n",
    "    return func(3*arg)\n",
    "\n",
    "print(mul(num,5))"
   ]
  },
  {
   "cell_type": "code",
   "execution_count": 22,
   "id": "9c7b792a",
   "metadata": {},
   "outputs": [
    {
     "name": "stdout",
     "output_type": "stream",
     "text": [
      "427.5\n"
     ]
    }
   ],
   "source": [
    "def student_discount(price):\n",
    "    price = price - (price * 10) / 100\n",
    "    return price\n",
    " \n",
    "def additional_discount(newprice):\n",
    "    newprice = newprice - (newprice * 5) / 100\n",
    "    return newprice\n",
    " \n",
    "selling_price = 500\n",
    " \n",
    "#applying both discounts simultaneously\n",
    " \n",
    "print(additional_discount(student_discount(selling_price)))"
   ]
  },
  {
   "cell_type": "markdown",
   "id": "945ed3b1",
   "metadata": {},
   "source": [
    "###  Lambda Function"
   ]
  },
  {
   "cell_type": "code",
   "execution_count": 7,
   "id": "9e8dc09f",
   "metadata": {},
   "outputs": [
    {
     "name": "stdout",
     "output_type": "stream",
     "text": [
      "25\n"
     ]
    }
   ],
   "source": [
    "result = (lambda x : x**2)(5)\n",
    "print(result)"
   ]
  },
  {
   "cell_type": "code",
   "execution_count": 9,
   "id": "a9a28dd2",
   "metadata": {},
   "outputs": [
    {
     "name": "stdout",
     "output_type": "stream",
     "text": [
      "49\n"
     ]
    }
   ],
   "source": [
    "print((lambda x : x**2) (7))"
   ]
  },
  {
   "cell_type": "code",
   "execution_count": 23,
   "id": "a704f2e3",
   "metadata": {},
   "outputs": [
    {
     "name": "stdout",
     "output_type": "stream",
     "text": [
      "500\n"
     ]
    }
   ],
   "source": [
    "result = (lambda x: x*(x+5)**2)(5)\n",
    "print(result)"
   ]
  },
  {
   "cell_type": "markdown",
   "id": "97bee259",
   "metadata": {},
   "source": [
    "###  Map Function"
   ]
  },
  {
   "cell_type": "code",
   "execution_count": 11,
   "id": "9f10f04a",
   "metadata": {},
   "outputs": [
    {
     "name": "stdout",
     "output_type": "stream",
     "text": [
      "[12, 22, 32, 42, 52]\n"
     ]
    }
   ],
   "source": [
    "def add(x):\n",
    "    return x + 2\n",
    "newlist = [10,20,30,40,50]\n",
    "\n",
    "result = list(map(add , newlist))\n",
    "print(result)"
   ]
  },
  {
   "cell_type": "code",
   "execution_count": 12,
   "id": "8646e70e",
   "metadata": {},
   "outputs": [
    {
     "name": "stdout",
     "output_type": "stream",
     "text": [
      "[24, 26, 28, 30]\n"
     ]
    }
   ],
   "source": [
    "def mul(x):\n",
    "    return x*2\n",
    "\n",
    "newlist = [12,13,14,15]\n",
    "\n",
    "result = list(map(mul,newlist))\n",
    "print(result)"
   ]
  },
  {
   "cell_type": "code",
   "execution_count": 13,
   "id": "90016335",
   "metadata": {},
   "outputs": [
    {
     "name": "stdout",
     "output_type": "stream",
     "text": [
      "[5, 6, 9, 10, 4, 3]\n"
     ]
    }
   ],
   "source": [
    "newlist = [3,4,7,8,2,1]\n",
    "result = list(map(lambda x :x+2,newlist))\n",
    "print(result)"
   ]
  },
  {
   "cell_type": "code",
   "execution_count": 14,
   "id": "3399d946",
   "metadata": {},
   "outputs": [
    {
     "name": "stdout",
     "output_type": "stream",
     "text": [
      "[9, 4, 49, 81]\n"
     ]
    }
   ],
   "source": [
    "newlist = [3,2,7,9]\n",
    "result = list(map(lambda x : x**2,newlist))\n",
    "print(result)"
   ]
  },
  {
   "cell_type": "code",
   "execution_count": 25,
   "id": "8852c127",
   "metadata": {},
   "outputs": [
    {
     "name": "stdout",
     "output_type": "stream",
     "text": [
      "[90.0, 180.0, 270.0, 360.0, 450.0]\n"
     ]
    }
   ],
   "source": [
    "# Build a function to discount the price of all the products by 10% , using map function.\n",
    "\n",
    "\n",
    "def discount(price):\n",
    "    price = price - (price * 10) / 100\n",
    "    return price\n",
    " \n",
    "product_prices = [100, 200, 300, 400, 500]\n",
    " \n",
    "updated_prices = list(map(discount,product_prices))\n",
    " \n",
    "print(updated_prices)"
   ]
  },
  {
   "cell_type": "markdown",
   "id": "614686fc",
   "metadata": {},
   "source": [
    "###  Filters in python"
   ]
  },
  {
   "cell_type": "code",
   "execution_count": 15,
   "id": "2bf09b4b",
   "metadata": {},
   "outputs": [
    {
     "name": "stdout",
     "output_type": "stream",
     "text": [
      "[2, 4, 6, 8]\n"
     ]
    }
   ],
   "source": [
    "newlist = [1,3,2,4,5,6,9,8,7]\n",
    "\n",
    "result = list(filter(lambda x : x%2==0 , newlist))\n",
    "\n",
    "print (result)"
   ]
  },
  {
   "cell_type": "markdown",
   "id": "3053fcbc",
   "metadata": {},
   "source": [
    "###  Generators in Python"
   ]
  },
  {
   "cell_type": "code",
   "execution_count": 21,
   "id": "b40ca8bd",
   "metadata": {},
   "outputs": [
    {
     "name": "stdout",
     "output_type": "stream",
     "text": [
      "0\n",
      "1\n",
      "2\n",
      "3\n",
      "4\n"
     ]
    }
   ],
   "source": [
    "def function ():\n",
    "    counter = 0\n",
    "    while counter < 5:\n",
    "        yield counter \n",
    "        counter += 1\n",
    "        \n",
    "for x in function():\n",
    "    print(x)"
   ]
  },
  {
   "cell_type": "code",
   "execution_count": 19,
   "id": "3c1c1fc1",
   "metadata": {},
   "outputs": [
    {
     "name": "stdout",
     "output_type": "stream",
     "text": [
      "[0, 2, 4, 6, 8, 10, 12, 14, 16, 18, 20]\n"
     ]
    }
   ],
   "source": [
    "def even(x):\n",
    "    for i in range(x):\n",
    "        if i%2==0:\n",
    "            yield i\n",
    "            \n",
    "print(list(even(21)))\n",
    "            "
   ]
  },
  {
   "cell_type": "code",
   "execution_count": null,
   "id": "d5690d93",
   "metadata": {},
   "outputs": [],
   "source": []
  }
 ],
 "metadata": {
  "kernelspec": {
   "display_name": "Python 3 (ipykernel)",
   "language": "python",
   "name": "python3"
  },
  "language_info": {
   "codemirror_mode": {
    "name": "ipython",
    "version": 3
   },
   "file_extension": ".py",
   "mimetype": "text/x-python",
   "name": "python",
   "nbconvert_exporter": "python",
   "pygments_lexer": "ipython3",
   "version": "3.9.12"
  }
 },
 "nbformat": 4,
 "nbformat_minor": 5
}
